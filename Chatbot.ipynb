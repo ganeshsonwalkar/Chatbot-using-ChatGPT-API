{
 "cells": [
  {
   "cell_type": "code",
   "execution_count": 1,
   "id": "90df3913-340c-4b7b-a396-62f4463b8a99",
   "metadata": {},
   "outputs": [],
   "source": [
    "import os\n",
    "import requests\n",
    "from dotenv import load_dotenv\n",
    "from openai import OpenAI\n",
    "import gradio as gr"
   ]
  },
  {
   "cell_type": "code",
   "execution_count": 2,
   "id": "7a7385f3-922b-4aa3-92f8-03f5cc5553ef",
   "metadata": {},
   "outputs": [
    {
     "data": {
      "text/plain": [
       "True"
      ]
     },
     "execution_count": 2,
     "metadata": {},
     "output_type": "execute_result"
    }
   ],
   "source": [
    "load_dotenv(override=True)"
   ]
  },
  {
   "cell_type": "code",
   "execution_count": 3,
   "id": "09d2410b-cdfc-431f-b4eb-d6e29a1604d9",
   "metadata": {},
   "outputs": [],
   "source": [
    "apikey=os.getenv('OPENAI_API_KEY')"
   ]
  },
  {
   "cell_type": "code",
   "execution_count": 4,
   "id": "b04df269-aabe-4495-9f16-5985a1311045",
   "metadata": {},
   "outputs": [
    {
     "name": "stdout",
     "output_type": "stream",
     "text": [
      "APIKEY is found\n"
     ]
    }
   ],
   "source": [
    "if not apikey:\n",
    "    print('APIKEY is not found')\n",
    "else :\n",
    "    print('APIKEY is found')"
   ]
  },
  {
   "cell_type": "code",
   "execution_count": 8,
   "id": "f0dd468a-c747-4f12-b74e-3301faabdce5",
   "metadata": {},
   "outputs": [],
   "source": [
    "aimodel='gpt-5-nano'\n",
    "system_prompt='You are a chat assistant who talks in a very sarcastic way and judges every input the user makes and answers with a sarcastic comment or insult in a friendly way.'\n",
    "systemheader=[{'role':'system','content':system_prompt}]\n",
    "max_token=200\n",
    "apicall=OpenAI()\n",
    "\n",
    "def launchOpenAI(user_input,history):\n",
    "\n",
    "    history=[{'role':h['role'],'content':h['content']} for h in history]\n",
    "    userprompt=[{'role':'user','content': user_input}]\n",
    "    listofmessages = systemheader + history + userprompt\n",
    "  \n",
    "    response=apicall.chat.completions.create(model=aimodel,messages=listofmessages,stream=True)\n",
    "    stream=''\n",
    "    for reply in response: \n",
    "        stream+=reply.choices[0].delta.content or ''\n",
    "        yield stream\n",
    "    \n",
    "    #return reply"
   ]
  },
  {
   "cell_type": "code",
   "execution_count": 9,
   "id": "138c0f4b-dea4-49e9-81d1-bb09154335d6",
   "metadata": {},
   "outputs": [],
   "source": [
    "UI=gr.ChatInterface(fn=launchOpenAI,type=\"messages\")"
   ]
  },
  {
   "cell_type": "code",
   "execution_count": 10,
   "id": "152b1654-e81c-439b-b179-370af531823a",
   "metadata": {
    "scrolled": true
   },
   "outputs": [
    {
     "name": "stdout",
     "output_type": "stream",
     "text": [
      "* Running on local URL:  http://127.0.0.1:7861\n",
      "* To create a public link, set `share=True` in `launch()`.\n"
     ]
    },
    {
     "data": {
      "text/html": [
       "<div><iframe src=\"http://127.0.0.1:7861/\" width=\"100%\" height=\"500\" allow=\"autoplay; camera; microphone; clipboard-read; clipboard-write;\" frameborder=\"0\" allowfullscreen></iframe></div>"
      ],
      "text/plain": [
       "<IPython.core.display.HTML object>"
      ]
     },
     "metadata": {},
     "output_type": "display_data"
    },
    {
     "data": {
      "text/plain": []
     },
     "execution_count": 10,
     "metadata": {},
     "output_type": "execute_result"
    }
   ],
   "source": [
    "#UI.launch(share=True)\n",
    "UI.launch()"
   ]
  },
  {
   "cell_type": "code",
   "execution_count": null,
   "id": "242523b3-2f04-4491-9d13-2b7314046462",
   "metadata": {},
   "outputs": [],
   "source": []
  },
  {
   "cell_type": "code",
   "execution_count": null,
   "id": "a2bca5b7-812d-4737-b975-5ae24f60c1b2",
   "metadata": {},
   "outputs": [],
   "source": []
  }
 ],
 "metadata": {
  "kernelspec": {
   "display_name": "Python 3 (ipykernel)",
   "language": "python",
   "name": "python3"
  },
  "language_info": {
   "codemirror_mode": {
    "name": "ipython",
    "version": 3
   },
   "file_extension": ".py",
   "mimetype": "text/x-python",
   "name": "python",
   "nbconvert_exporter": "python",
   "pygments_lexer": "ipython3",
   "version": "3.11.13"
  }
 },
 "nbformat": 4,
 "nbformat_minor": 5
}
